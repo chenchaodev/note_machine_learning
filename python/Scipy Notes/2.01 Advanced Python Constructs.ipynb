{
 "cells": [
  {
   "cell_type": "markdown",
   "metadata": {},
   "source": [
    "### Iterators, generator expressions and generators"
   ]
  },
  {
   "cell_type": "markdown",
   "metadata": {},
   "source": [
    "#### Iterators"
   ]
  },
  {
   "cell_type": "code",
   "execution_count": 3,
   "metadata": {
    "collapsed": false
   },
   "outputs": [],
   "source": [
    "nums = [1, 2, 3]      # note that ... varies: these are different objects\n",
    "iter(nums) \n",
    "nums.__iter__()  \n",
    "nums.__reversed__()                  \n",
    "\n",
    "it = iter(nums)"
   ]
  },
  {
   "cell_type": "code",
   "execution_count": 4,
   "metadata": {
    "collapsed": false
   },
   "outputs": [
    {
     "data": {
      "text/plain": [
       "1"
      ]
     },
     "execution_count": 4,
     "metadata": {},
     "output_type": "execute_result"
    }
   ],
   "source": [
    "next(it)"
   ]
  },
  {
   "cell_type": "code",
   "execution_count": 5,
   "metadata": {
    "collapsed": false
   },
   "outputs": [
    {
     "data": {
      "text/plain": [
       "2"
      ]
     },
     "execution_count": 5,
     "metadata": {},
     "output_type": "execute_result"
    }
   ],
   "source": [
    "next(it)"
   ]
  },
  {
   "cell_type": "code",
   "execution_count": 8,
   "metadata": {
    "collapsed": false
   },
   "outputs": [],
   "source": [
    "f = open('./1.02 Python basic.ipynb')\n",
    "f is f.__iter__()\n",
    "f.close()"
   ]
  },
  {
   "cell_type": "markdown",
   "metadata": {},
   "source": [
    "#### Generator expressions"
   ]
  },
  {
   "cell_type": "code",
   "execution_count": 9,
   "metadata": {
    "collapsed": false
   },
   "outputs": [
    {
     "data": {
      "text/plain": [
       "<generator object <genexpr> at 0x0000026C9E534620>"
      ]
     },
     "execution_count": 9,
     "metadata": {},
     "output_type": "execute_result"
    }
   ],
   "source": [
    "(i for i in nums)"
   ]
  },
  {
   "cell_type": "code",
   "execution_count": 10,
   "metadata": {
    "collapsed": false
   },
   "outputs": [
    {
     "data": {
      "text/plain": [
       "[1, 2, 3]"
      ]
     },
     "execution_count": 10,
     "metadata": {},
     "output_type": "execute_result"
    }
   ],
   "source": [
    "[i for i in nums]"
   ]
  },
  {
   "cell_type": "code",
   "execution_count": 11,
   "metadata": {
    "collapsed": false
   },
   "outputs": [
    {
     "data": {
      "text/plain": [
       "[1, 2, 3]"
      ]
     },
     "execution_count": 11,
     "metadata": {},
     "output_type": "execute_result"
    }
   ],
   "source": [
    "list(i for i in nums)"
   ]
  },
  {
   "cell_type": "code",
   "execution_count": 12,
   "metadata": {
    "collapsed": false
   },
   "outputs": [
    {
     "data": {
      "text/plain": [
       "{0, 1, 2}"
      ]
     },
     "execution_count": 12,
     "metadata": {},
     "output_type": "execute_result"
    }
   ],
   "source": [
    "{i for i in range(3)}  "
   ]
  },
  {
   "cell_type": "code",
   "execution_count": 13,
   "metadata": {
    "collapsed": false
   },
   "outputs": [
    {
     "data": {
      "text/plain": [
       "{0: 0, 1: 1, 2: 4}"
      ]
     },
     "execution_count": 13,
     "metadata": {},
     "output_type": "execute_result"
    }
   ],
   "source": [
    "{i:i**2 for i in range(3)}  "
   ]
  },
  {
   "cell_type": "markdown",
   "metadata": {},
   "source": [
    "#### Generator"
   ]
  },
  {
   "cell_type": "code",
   "execution_count": 16,
   "metadata": {
    "collapsed": false
   },
   "outputs": [],
   "source": [
    "def f():\n",
    "    yield 1\n",
    "    yield 2\n",
    "\n",
    "gen = f()"
   ]
  },
  {
   "cell_type": "code",
   "execution_count": 17,
   "metadata": {
    "collapsed": false
   },
   "outputs": [
    {
     "data": {
      "text/plain": [
       "1"
      ]
     },
     "execution_count": 17,
     "metadata": {},
     "output_type": "execute_result"
    }
   ],
   "source": [
    "next(gen)"
   ]
  },
  {
   "cell_type": "code",
   "execution_count": 18,
   "metadata": {
    "collapsed": false
   },
   "outputs": [
    {
     "data": {
      "text/plain": [
       "2"
      ]
     },
     "execution_count": 18,
     "metadata": {},
     "output_type": "execute_result"
    }
   ],
   "source": [
    "next(gen)"
   ]
  },
  {
   "cell_type": "code",
   "execution_count": 19,
   "metadata": {
    "collapsed": false
   },
   "outputs": [
    {
     "ename": "StopIteration",
     "evalue": "",
     "output_type": "error",
     "traceback": [
      "\u001b[1;31m---------------------------------------------------------------------------\u001b[0m",
      "\u001b[1;31mStopIteration\u001b[0m                             Traceback (most recent call last)",
      "\u001b[1;32m<ipython-input-19-8a6233884a6c>\u001b[0m in \u001b[0;36m<module>\u001b[1;34m()\u001b[0m\n\u001b[1;32m----> 1\u001b[1;33m \u001b[0mnext\u001b[0m\u001b[1;33m(\u001b[0m\u001b[0mgen\u001b[0m\u001b[1;33m)\u001b[0m\u001b[1;33m\u001b[0m\u001b[0m\n\u001b[0m",
      "\u001b[1;31mStopIteration\u001b[0m: "
     ]
    }
   ],
   "source": [
    "next(gen)"
   ]
  },
  {
   "cell_type": "code",
   "execution_count": 20,
   "metadata": {
    "collapsed": false
   },
   "outputs": [
    {
     "name": "stdout",
     "output_type": "stream",
     "text": [
      "start\n"
     ]
    },
    {
     "data": {
      "text/plain": [
       "3"
      ]
     },
     "execution_count": 20,
     "metadata": {},
     "output_type": "execute_result"
    }
   ],
   "source": [
    "def f():\n",
    "    print('start')\n",
    "    yield 3\n",
    "    print('middle')\n",
    "    yield 4\n",
    "    print('finished')\n",
    "    yield 5\n",
    "    \n",
    "gen = f()\n",
    "next(gen)"
   ]
  },
  {
   "cell_type": "code",
   "execution_count": 21,
   "metadata": {
    "collapsed": false
   },
   "outputs": [
    {
     "name": "stdout",
     "output_type": "stream",
     "text": [
      "middle\n"
     ]
    },
    {
     "data": {
      "text/plain": [
       "4"
      ]
     },
     "execution_count": 21,
     "metadata": {},
     "output_type": "execute_result"
    }
   ],
   "source": [
    "next(gen)"
   ]
  },
  {
   "cell_type": "code",
   "execution_count": 22,
   "metadata": {
    "collapsed": false
   },
   "outputs": [
    {
     "name": "stdout",
     "output_type": "stream",
     "text": [
      "finished\n"
     ]
    },
    {
     "data": {
      "text/plain": [
       "5"
      ]
     },
     "execution_count": 22,
     "metadata": {},
     "output_type": "execute_result"
    }
   ],
   "source": [
    "next(gen)"
   ]
  },
  {
   "cell_type": "code",
   "execution_count": 23,
   "metadata": {
    "collapsed": false
   },
   "outputs": [
    {
     "ename": "StopIteration",
     "evalue": "",
     "output_type": "error",
     "traceback": [
      "\u001b[1;31m---------------------------------------------------------------------------\u001b[0m",
      "\u001b[1;31mStopIteration\u001b[0m                             Traceback (most recent call last)",
      "\u001b[1;32m<ipython-input-23-8a6233884a6c>\u001b[0m in \u001b[0;36m<module>\u001b[1;34m()\u001b[0m\n\u001b[1;32m----> 1\u001b[1;33m \u001b[0mnext\u001b[0m\u001b[1;33m(\u001b[0m\u001b[0mgen\u001b[0m\u001b[1;33m)\u001b[0m\u001b[1;33m\u001b[0m\u001b[0m\n\u001b[0m",
      "\u001b[1;31mStopIteration\u001b[0m: "
     ]
    }
   ],
   "source": [
    "next(gen)"
   ]
  },
  {
   "cell_type": "markdown",
   "metadata": {},
   "source": [
    "#### Bidirectional communication"
   ]
  },
  {
   "cell_type": "code",
   "execution_count": 41,
   "metadata": {
    "collapsed": false
   },
   "outputs": [],
   "source": [
    "import itertools\n",
    "\n",
    "def g():\n",
    "    print('start')\n",
    "    for i in itertools.count():\n",
    "        print('yielding %i' % i)\n",
    "        try:\n",
    "            ans = yield i\n",
    "        except GeneratorExit:\n",
    "            print('closing')\n",
    "            raise\n",
    "        except Exception as e:\n",
    "            print('yield raised %r' % e)\n",
    "        else:\n",
    "            print('yield returned %s' % ans)\n",
    "            \n",
    "            "
   ]
  },
  {
   "cell_type": "code",
   "execution_count": 42,
   "metadata": {
    "collapsed": false
   },
   "outputs": [
    {
     "name": "stdout",
     "output_type": "stream",
     "text": [
      "start\n",
      "yielding 0\n"
     ]
    },
    {
     "data": {
      "text/plain": [
       "0"
      ]
     },
     "execution_count": 42,
     "metadata": {},
     "output_type": "execute_result"
    }
   ],
   "source": [
    "it = g()\n",
    "next(it)"
   ]
  },
  {
   "cell_type": "code",
   "execution_count": 43,
   "metadata": {
    "collapsed": false
   },
   "outputs": [
    {
     "name": "stdout",
     "output_type": "stream",
     "text": [
      "yield returned 11\n",
      "yielding 1\n"
     ]
    },
    {
     "data": {
      "text/plain": [
       "1"
      ]
     },
     "execution_count": 43,
     "metadata": {},
     "output_type": "execute_result"
    }
   ],
   "source": [
    "it.send(11)"
   ]
  },
  {
   "cell_type": "code",
   "execution_count": 44,
   "metadata": {
    "collapsed": false
   },
   "outputs": [
    {
     "name": "stdout",
     "output_type": "stream",
     "text": [
      "yield raised IndexError()\n",
      "yielding 2\n"
     ]
    },
    {
     "data": {
      "text/plain": [
       "2"
      ]
     },
     "execution_count": 44,
     "metadata": {},
     "output_type": "execute_result"
    }
   ],
   "source": [
    "it.throw(IndexError)"
   ]
  },
  {
   "cell_type": "code",
   "execution_count": 45,
   "metadata": {
    "collapsed": false
   },
   "outputs": [
    {
     "name": "stdout",
     "output_type": "stream",
     "text": [
      "closing\n"
     ]
    }
   ],
   "source": [
    "it.close()"
   ]
  },
  {
   "cell_type": "markdown",
   "metadata": {},
   "source": [
    "#### Chaining communication"
   ]
  },
  {
   "cell_type": "code",
   "execution_count": 48,
   "metadata": {
    "collapsed": false
   },
   "outputs": [],
   "source": [
    "def subgen():\n",
    "    yield from g()"
   ]
  },
  {
   "cell_type": "markdown",
   "metadata": {},
   "source": [
    "### Decorators"
   ]
  },
  {
   "cell_type": "markdown",
   "metadata": {},
   "source": [
    "#### Replacing or tweaking the original object"
   ]
  },
  {
   "cell_type": "code",
   "execution_count": 51,
   "metadata": {
    "collapsed": false
   },
   "outputs": [
    {
     "name": "stdout",
     "output_type": "stream",
     "text": [
      "doing decoration\n",
      "inside function\n"
     ]
    }
   ],
   "source": [
    "def simple_decorator(function):\n",
    "  print(\"doing decoration\")\n",
    "  return function\n",
    "\n",
    "@simple_decorator\n",
    "def function():\n",
    "  print(\"inside function\")\n",
    "\n",
    "function()"
   ]
  },
  {
   "cell_type": "code",
   "execution_count": 52,
   "metadata": {
    "collapsed": false
   },
   "outputs": [
    {
     "name": "stdout",
     "output_type": "stream",
     "text": [
      "defining the decorator\n",
      "doing decoration, 'abc'\n",
      "inside function\n"
     ]
    }
   ],
   "source": [
    "\n",
    "def decorator_with_arguments(arg):\n",
    "  print(\"defining the decorator\")\n",
    "  def _decorator(function):\n",
    "      # in this inner function, arg is available too\n",
    "      print(\"doing decoration, %r\" % arg)\n",
    "      return function\n",
    "  return _decorator\n",
    "\n",
    "@decorator_with_arguments(\"abc\")\n",
    "def function():\n",
    "  print(\"inside function\")\n",
    "\n",
    "\n",
    "function()"
   ]
  },
  {
   "cell_type": "code",
   "execution_count": 53,
   "metadata": {
    "collapsed": false
   },
   "outputs": [
    {
     "name": "stdout",
     "output_type": "stream",
     "text": [
      "defining the decorator\n",
      "doing decoration, 'abc'\n",
      "inside wrapper, (11, 12) {}\n",
      "inside function, (11, 12) {}\n"
     ]
    },
    {
     "data": {
      "text/plain": [
       "14"
      ]
     },
     "execution_count": 53,
     "metadata": {},
     "output_type": "execute_result"
    }
   ],
   "source": [
    "def replacing_decorator_with_args(arg):\n",
    "  print(\"defining the decorator\")\n",
    "  def _decorator(function):\n",
    "      # in this inner function, arg is available too\n",
    "      print(\"doing decoration, %r\" % arg)\n",
    "      def _wrapper(*args, **kwargs):\n",
    "          print(\"inside wrapper, %r %r\" % (args, kwargs))\n",
    "          return function(*args, **kwargs)\n",
    "      return _wrapper\n",
    "  return _decorator\n",
    "\n",
    "@replacing_decorator_with_args(\"abc\")\n",
    "def function(*args, **kwargs):\n",
    "    print(\"inside function, %r %r\" % (args, kwargs))\n",
    "    return 14\n",
    "\n",
    "\n",
    "function(11, 12)"
   ]
  },
  {
   "cell_type": "markdown",
   "metadata": {},
   "source": [
    "#### Decorators implemented as classes and as functions"
   ]
  },
  {
   "cell_type": "code",
   "execution_count": 54,
   "metadata": {
    "collapsed": false
   },
   "outputs": [
    {
     "name": "stdout",
     "output_type": "stream",
     "text": [
      "in decorator init, foo\n",
      "in decorator call, foo\n",
      "in function, () {}\n"
     ]
    }
   ],
   "source": [
    "class decorator_class(object):\n",
    "  def __init__(self, arg):\n",
    "      # this method is called in the decorator expression\n",
    "      print(\"in decorator init, %s\" % arg)\n",
    "      self.arg = arg\n",
    "  def __call__(self, function):\n",
    "      # this method is called to do the job\n",
    "      print(\"in decorator call, %s\" % self.arg)\n",
    "      return function\n",
    "deco_instance = decorator_class('foo')\n",
    "\n",
    "@deco_instance\n",
    "def function(*args, **kwargs):\n",
    "  print(\"in function, %s %s\" % (args, kwargs))\n",
    "\n",
    "function()"
   ]
  },
  {
   "cell_type": "code",
   "execution_count": 55,
   "metadata": {
    "collapsed": false
   },
   "outputs": [
    {
     "name": "stdout",
     "output_type": "stream",
     "text": [
      "in decorator init, foo\n",
      "in decorator call, foo\n",
      "in the wrapper, (11, 12) {}\n",
      "in function, (11, 12) {}\n"
     ]
    }
   ],
   "source": [
    "class replacing_decorator_class(object):\n",
    "  def __init__(self, arg):\n",
    "      # this method is called in the decorator expression\n",
    "      print(\"in decorator init, %s\" % arg)\n",
    "      self.arg = arg\n",
    "  def __call__(self, function):\n",
    "      # this method is called to do the job\n",
    "      print(\"in decorator call, %s\" % self.arg)\n",
    "      self.function = function\n",
    "      return self._wrapper\n",
    "  def _wrapper(self, *args, **kwargs):\n",
    "      print(\"in the wrapper, %s %s\" % (args, kwargs))\n",
    "      return self.function(*args, **kwargs)\n",
    "deco_instance = replacing_decorator_class('foo')\n",
    "\n",
    "@deco_instance\n",
    "def function(*args, **kwargs):\n",
    "  print(\"in function, %s %s\" % (args, kwargs))\n",
    "\n",
    "function(11, 12)"
   ]
  },
  {
   "cell_type": "markdown",
   "metadata": {},
   "source": [
    "### Copying the docstring and other attributes of the original function"
   ]
  },
  {
   "cell_type": "code",
   "execution_count": 56,
   "metadata": {
    "collapsed": false
   },
   "outputs": [
    {
     "name": "stdout",
     "output_type": "stream",
     "text": [
      "defining the decorator\n",
      "doing decoration, 'abc'\n",
      "extensive documentation\n"
     ]
    }
   ],
   "source": [
    "import functools\n",
    "def replacing_decorator_with_args(arg):\n",
    "  print(\"defining the decorator\")\n",
    "  def _decorator(function):\n",
    "      print(\"doing decoration, %r\" % arg)\n",
    "      def _wrapper(*args, **kwargs):\n",
    "          print(\"inside wrapper, %r %r\" % (args, kwargs))\n",
    "          return function(*args, **kwargs)\n",
    "      return functools.update_wrapper(_wrapper, function)\n",
    "  return _decorator\n",
    "@replacing_decorator_with_args(\"abc\")\n",
    "def function():\n",
    "    \"extensive documentation\"\n",
    "    print(\"inside function\")\n",
    "    return 14\n",
    "\n",
    "\n",
    "function                           \n",
    "\n",
    "print(function.__doc__)"
   ]
  },
  {
   "cell_type": "markdown",
   "metadata": {},
   "source": [
    "#### Example in the standard library"
   ]
  },
  {
   "cell_type": "code",
   "execution_count": 57,
   "metadata": {
    "collapsed": true
   },
   "outputs": [],
   "source": [
    "class Array(object):\n",
    "    def __init__(self, data):\n",
    "        self.data = data\n",
    "\n",
    "    @classmethod\n",
    "    def fromfile(cls, file):\n",
    "        data = numpy.load(file)\n",
    "        return cls(data)"
   ]
  },
  {
   "cell_type": "code",
   "execution_count": 60,
   "metadata": {
    "collapsed": false
   },
   "outputs": [
    {
     "data": {
      "text/plain": [
       "'a value'"
      ]
     },
     "execution_count": 60,
     "metadata": {},
     "output_type": "execute_result"
    }
   ],
   "source": [
    "class A(object):\n",
    "  @property\n",
    "  def a(self):\n",
    "    \"an important attribute\"\n",
    "    return \"a value\"\n",
    "A.a                                   \n",
    "\n",
    "A().a\n"
   ]
  },
  {
   "cell_type": "code",
   "execution_count": 61,
   "metadata": {
    "collapsed": true
   },
   "outputs": [],
   "source": [
    "class Rectangle(object):\n",
    "    def __init__(self, edge):\n",
    "        self.edge = edge\n",
    "\n",
    "    @property\n",
    "    def area(self):\n",
    "        \"\"\"Computed area.\n",
    "\n",
    "        Setting this updates the edge length to the proper value.\n",
    "        \"\"\"\n",
    "        return self.edge**2\n",
    "\n",
    "    @area.setter\n",
    "    def area(self, area):\n",
    "        self.edge = area ** 0.5"
   ]
  },
  {
   "cell_type": "code",
   "execution_count": 62,
   "metadata": {
    "collapsed": true
   },
   "outputs": [],
   "source": [
    "class D(object):\n",
    "   @property\n",
    "   def a(self):\n",
    "     print(\"getting 1\")\n",
    "     return 1\n",
    "   @a.setter\n",
    "   def a(self, value):\n",
    "     print(\"setting %r\" % value)\n",
    "   @a.deleter\n",
    "   def a(self):\n",
    "     print(\"deleting\")"
   ]
  },
  {
   "cell_type": "code",
   "execution_count": 63,
   "metadata": {
    "collapsed": false
   },
   "outputs": [
    {
     "data": {
      "text/plain": [
       "<property at 0x26c9e6086d8>"
      ]
     },
     "execution_count": 63,
     "metadata": {},
     "output_type": "execute_result"
    }
   ],
   "source": [
    "D.a"
   ]
  },
  {
   "cell_type": "code",
   "execution_count": 64,
   "metadata": {
    "collapsed": false
   },
   "outputs": [
    {
     "data": {
      "text/plain": [
       "<function __main__.D.a>"
      ]
     },
     "execution_count": 64,
     "metadata": {},
     "output_type": "execute_result"
    }
   ],
   "source": [
    "D.a.fget"
   ]
  },
  {
   "cell_type": "code",
   "execution_count": 65,
   "metadata": {
    "collapsed": false
   },
   "outputs": [
    {
     "data": {
      "text/plain": [
       "<function __main__.D.a>"
      ]
     },
     "execution_count": 65,
     "metadata": {},
     "output_type": "execute_result"
    }
   ],
   "source": [
    "D.a.fset"
   ]
  },
  {
   "cell_type": "code",
   "execution_count": 66,
   "metadata": {
    "collapsed": false
   },
   "outputs": [
    {
     "data": {
      "text/plain": [
       "<function __main__.D.a>"
      ]
     },
     "execution_count": 66,
     "metadata": {},
     "output_type": "execute_result"
    }
   ],
   "source": [
    "D.a.fdel"
   ]
  },
  {
   "cell_type": "code",
   "execution_count": 67,
   "metadata": {
    "collapsed": true
   },
   "outputs": [],
   "source": [
    "d = D()"
   ]
  },
  {
   "cell_type": "code",
   "execution_count": 68,
   "metadata": {
    "collapsed": false
   },
   "outputs": [
    {
     "name": "stdout",
     "output_type": "stream",
     "text": [
      "getting 1\n"
     ]
    },
    {
     "data": {
      "text/plain": [
       "1"
      ]
     },
     "execution_count": 68,
     "metadata": {},
     "output_type": "execute_result"
    }
   ],
   "source": [
    "d.a"
   ]
  },
  {
   "cell_type": "code",
   "execution_count": 69,
   "metadata": {
    "collapsed": false
   },
   "outputs": [
    {
     "name": "stdout",
     "output_type": "stream",
     "text": [
      "setting 2\n"
     ]
    }
   ],
   "source": [
    "d.a = 2"
   ]
  },
  {
   "cell_type": "code",
   "execution_count": 72,
   "metadata": {
    "collapsed": false
   },
   "outputs": [
    {
     "name": "stdout",
     "output_type": "stream",
     "text": [
      "getting 1\n"
     ]
    },
    {
     "data": {
      "text/plain": [
       "1"
      ]
     },
     "execution_count": 72,
     "metadata": {},
     "output_type": "execute_result"
    }
   ],
   "source": [
    "d.a"
   ]
  },
  {
   "cell_type": "code",
   "execution_count": 70,
   "metadata": {
    "collapsed": false
   },
   "outputs": [
    {
     "name": "stdout",
     "output_type": "stream",
     "text": [
      "deleting\n"
     ]
    }
   ],
   "source": [
    "del d.a"
   ]
  },
  {
   "cell_type": "code",
   "execution_count": 71,
   "metadata": {
    "collapsed": false
   },
   "outputs": [
    {
     "name": "stdout",
     "output_type": "stream",
     "text": [
      "getting 1\n"
     ]
    },
    {
     "data": {
      "text/plain": [
       "1"
      ]
     },
     "execution_count": 71,
     "metadata": {},
     "output_type": "execute_result"
    }
   ],
   "source": [
    "d.a"
   ]
  },
  {
   "cell_type": "markdown",
   "metadata": {},
   "source": [
    "#### Deprection of function"
   ]
  },
  {
   "cell_type": "code",
   "execution_count": 74,
   "metadata": {
    "collapsed": false
   },
   "outputs": [],
   "source": [
    "class deprecated(object):\n",
    "    \"\"\"Print a deprecation warning once on first use of the function.\n",
    "\n",
    "    >>> @deprecated()                    # doctest: +SKIP\n",
    "    ... def f():\n",
    "    ...     pass\n",
    "    >>> f()                              # doctest: +SKIP\n",
    "    f is deprecated\n",
    "    \"\"\"\n",
    "    def __call__(self, func):\n",
    "        self.func = func\n",
    "        self.count = 0\n",
    "        return self._wrapper\n",
    "    def _wrapper(self, *args, **kwargs):\n",
    "        self.count += 1\n",
    "        if self.count == 1:\n",
    "            print(self.func.__name__, 'is deprecated')\n",
    "        return self.func(*args, **kwargs)"
   ]
  },
  {
   "cell_type": "code",
   "execution_count": 75,
   "metadata": {
    "collapsed": true
   },
   "outputs": [],
   "source": [
    "def deprecated(func):\n",
    "    \"\"\"Print a deprecation warning once on first use of the function.\n",
    "\n",
    "    >>> @deprecated                      # doctest: +SKIP\n",
    "    ... def f():\n",
    "    ...     pass\n",
    "    >>> f()                              # doctest: +SKIP\n",
    "    f is deprecated\n",
    "    \"\"\"\n",
    "    count = [0]\n",
    "    def wrapper(*args, **kwargs):\n",
    "        count[0] += 1\n",
    "        if count[0] == 1:\n",
    "            print (func.__name__, 'is deprecated')\n",
    "        return func(*args, **kwargs)\n",
    "    return wrapper"
   ]
  },
  {
   "cell_type": "code",
   "execution_count": 88,
   "metadata": {
    "collapsed": false
   },
   "outputs": [
    {
     "name": "stdout",
     "output_type": "stream",
     "text": [
      "func is deprecated\n",
      "1\n",
      "func2 is deprecated\n",
      "2\n"
     ]
    }
   ],
   "source": [
    "@deprecated\n",
    "def func():\n",
    "    print(1)\n",
    "    \n",
    "func()\n",
    "\n",
    "def func2():\n",
    "    print(2)\n",
    "    pass\n",
    "\n",
    "func3 = deprecated(func2)\n",
    "func3()\n"
   ]
  },
  {
   "cell_type": "code",
   "execution_count": 98,
   "metadata": {
    "collapsed": false
   },
   "outputs": [
    {
     "name": "stdout",
     "output_type": "stream",
     "text": [
      "init dec\n"
     ]
    }
   ],
   "source": [
    "class decorator_class(object):\n",
    "    def __init__(self, arg):\n",
    "        print('init dec')\n",
    "        self.arg = arg\n",
    "    def __call__(self, function):\n",
    "        print('dec')\n",
    "        self.function = function\n",
    "        return self._wrapper\n",
    "    def _wrapper(self, *args, **kwargs):\n",
    "        print('wrapper')\n",
    "        return self.function(*args, **kwargs)\n",
    "deco_instance = decorator_class('foo')\n"
   ]
  },
  {
   "cell_type": "code",
   "execution_count": 99,
   "metadata": {
    "collapsed": false
   },
   "outputs": [
    {
     "name": "stdout",
     "output_type": "stream",
     "text": [
      "dec\n"
     ]
    }
   ],
   "source": [
    "\n",
    "@deco_instance\n",
    "def function(*args, **kwargs):\n",
    "    print('function')\n"
   ]
  },
  {
   "cell_type": "code",
   "execution_count": 100,
   "metadata": {
    "collapsed": false
   },
   "outputs": [
    {
     "name": "stdout",
     "output_type": "stream",
     "text": [
      "wrapper\n",
      "function\n"
     ]
    }
   ],
   "source": [
    "\n",
    "function()"
   ]
  },
  {
   "cell_type": "markdown",
   "metadata": {},
   "source": [
    "#### A while-loop removing decorator"
   ]
  },
  {
   "cell_type": "code",
   "execution_count": 101,
   "metadata": {
    "collapsed": true
   },
   "outputs": [],
   "source": [
    "def find_answers():\n",
    "    answers = []\n",
    "    while True:\n",
    "        ans = look_for_next_answer()\n",
    "        if ans is None:\n",
    "            break\n",
    "        answers.append(ans)\n",
    "    return answers"
   ]
  },
  {
   "cell_type": "code",
   "execution_count": 102,
   "metadata": {
    "collapsed": true
   },
   "outputs": [],
   "source": [
    "def vectorized(generator_func):\n",
    "    def wrapper(*args, **kwargs):\n",
    "        return list(generator_func(*args, **kwargs))\n",
    "    return functools.update_wrapper(wrapper, generator_func)"
   ]
  },
  {
   "cell_type": "code",
   "execution_count": 103,
   "metadata": {
    "collapsed": true
   },
   "outputs": [],
   "source": [
    "@vectorized\n",
    "def find_answers():\n",
    "    while True:\n",
    "        ans = look_for_next_answer()\n",
    "        if ans is None:\n",
    "            break\n",
    "        yield ans"
   ]
  },
  {
   "cell_type": "markdown",
   "metadata": {},
   "source": [
    "#### A plugin registration system"
   ]
  },
  {
   "cell_type": "code",
   "execution_count": 104,
   "metadata": {
    "collapsed": true
   },
   "outputs": [],
   "source": [
    "class WordProcessor(object):\n",
    "    PLUGINS = []\n",
    "    def process(self, text):\n",
    "        for plugin in self.PLUGINS:\n",
    "            text = plugin().cleanup(text)\n",
    "        return text\n",
    "\n",
    "    @classmethod\n",
    "    def plugin(cls, plugin):\n",
    "        cls.PLUGINS.append(plugin)\n",
    "\n",
    "@WordProcessor.plugin\n",
    "class CleanMdashesExtension(object):\n",
    "    def cleanup(self, text):\n",
    "        return text.replace('&mdash;', u'\\N{em dash}')"
   ]
  },
  {
   "cell_type": "markdown",
   "metadata": {},
   "source": [
    "### Context managers"
   ]
  },
  {
   "cell_type": "code",
   "execution_count": 109,
   "metadata": {
    "collapsed": false
   },
   "outputs": [],
   "source": [
    "class closing(object):\n",
    "    def __init__(self, obj):\n",
    "        self.obj = obj\n",
    "    def __enter__(self):\n",
    "        return self.obj\n",
    "    def __exit__(self, *args):\n",
    "        self.obj.close()\n",
    "    \n",
    "with closing(open('tmp', 'w')) as f:\n",
    "    f.write('the contents\\n')   \n",
    "    \n",
    "with open('tmp', 'a') as f:\n",
    "  f.write('more contents\\n')  "
   ]
  },
  {
   "cell_type": "markdown",
   "metadata": {},
   "source": [
    "#### Catching exceptions"
   ]
  },
  {
   "cell_type": "code",
   "execution_count": 110,
   "metadata": {
    "collapsed": true
   },
   "outputs": [],
   "source": [
    "class assert_raises(object):\n",
    "    # based on pytest and unittest.TestCase\n",
    "    def __init__(self, type):\n",
    "        self.type = type\n",
    "    def __enter__(self):\n",
    "        pass\n",
    "    def __exit__(self, type, value, traceback):\n",
    "        if type is None:\n",
    "            raise AssertionError('exception expected')\n",
    "        if issubclass(type, self.type):\n",
    "            return True # swallow the expected exception\n",
    "        raise AssertionError('wrong exception type')\n",
    "\n",
    "with assert_raises(KeyError):\n",
    "    {}['foo']"
   ]
  },
  {
   "cell_type": "markdown",
   "metadata": {},
   "source": [
    "#### Using generators to define context managers"
   ]
  },
  {
   "cell_type": "code",
   "execution_count": 112,
   "metadata": {
    "collapsed": false
   },
   "outputs": [],
   "source": [
    "import contextlib\n",
    "@contextlib.contextmanager\n",
    "def closing(obj):\n",
    "    try:\n",
    "        yield obj\n",
    "    finally:\n",
    "        obj.close()"
   ]
  },
  {
   "cell_type": "code",
   "execution_count": 113,
   "metadata": {
    "collapsed": true
   },
   "outputs": [],
   "source": [
    "@contextlib.contextmanager\n",
    "def assert_raises(type):\n",
    "    try:\n",
    "        yield\n",
    "    except type:\n",
    "        return\n",
    "    except Exception as value:\n",
    "        raise AssertionError('wrong exception type')\n",
    "    else:\n",
    "        raise AssertionError('exception expected')"
   ]
  },
  {
   "cell_type": "code",
   "execution_count": null,
   "metadata": {
    "collapsed": true
   },
   "outputs": [],
   "source": []
  }
 ],
 "metadata": {
  "kernelspec": {
   "display_name": "Python 3",
   "language": "python",
   "name": "python3"
  },
  "language_info": {
   "codemirror_mode": {
    "name": "ipython",
    "version": 3
   },
   "file_extension": ".py",
   "mimetype": "text/x-python",
   "name": "python",
   "nbconvert_exporter": "python",
   "pygments_lexer": "ipython3",
   "version": "3.5.1"
  }
 },
 "nbformat": 4,
 "nbformat_minor": 0
}
