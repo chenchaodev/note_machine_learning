{
 "cells": [
  {
   "cell_type": "markdown",
   "metadata": {
    "collapsed": true
   },
   "source": [
    "### Avoiding bugs\n",
    "\n",
    "#### Coding best practices to avoid getting in trouble\n",
    "\n",
    "- Accept it. Deal with it.\n",
    "- Write your code with testing and debugging in mind.\n",
    "- Keep It Simple, Stupid (KISS).\n",
    "- Don't Repeat Yourself (DRY).\n",
    "    - Every piece of knowledge must have a single, unambiguous, authoritaive representation within a system.\n",
    "    - Constans, algorithms, etc...\n",
    "- Try to limit interdependecies of your code. (Loose Coupling)\n",
    "- Give your variables, functions and modules meaningful names (not matheematics names)"
   ]
  },
  {
   "cell_type": "markdown",
   "metadata": {},
   "source": [
    "#### pyflakes: fast static analysis\n",
    "several static analysis tools in Python:\n",
    "- pylint\n",
    "- pychecker\n",
    "- pyflakes\n",
    "    - Fast, simple\n",
    "    - Detects syntax errors, missing imports, typos on names\n",
    "- pep8\n",
    "- flake8"
   ]
  },
  {
   "cell_type": "markdown",
   "metadata": {},
   "source": [
    "### Debugging workflow\n",
    "\n",
    "For debugging a given problem, the favorable situation is when the problem is isolated in a small number of lines of code, outside framework or application code, with short modify-run-fail cycles\n",
    "\n",
    "1. Make it fail reliably. Find a test case that makes the code fail every time.\n",
    "2. Divide and Conquer. Once you have a failing test case, isolate the failing code.\n",
    "    - Which module.\n",
    "    - Which function.\n",
    "    - Which line of code.\n",
    "    => isolate a small reproducible failure: a test case\n",
    "3. Change one thing at a time and re-run the failing test case.\n",
    "4. Use the debugger to understand what is going wrong.\n",
    "5. Take notes and be patient. It may take a while."
   ]
  },
  {
   "cell_type": "markdown",
   "metadata": {},
   "source": [
    "### Using the python debugger\n",
    "Specifically it allows you to:\n",
    "- View the source code.\n",
    "- Walk up and down the call stack.\n",
    "- Inspect values of variables.\n",
    "- Modify values of variables.\n",
    "- Set breakpoints.\n",
    "- print"
   ]
  },
  {
   "cell_type": "markdown",
   "metadata": {},
   "source": [
    "#### Invoking the debugger"
   ]
  },
  {
   "cell_type": "markdown",
   "metadata": {},
   "source": [
    "##### Postmortem\n",
    "``` shell\n",
    "%run index_error.py\n",
    "\n",
    "%debug\n",
    "\n",
    "\n",
    "ipdb> list\n",
    "\n",
    "ipdb> len(lst)\n",
    "\n",
    "ipdb> print lst[len(lst)-1]\n",
    "\n",
    "ipdb> quit\n",
    "\n",
    "```\n"
   ]
  },
  {
   "cell_type": "markdown",
   "metadata": {},
   "source": [
    "``` shell\n",
    "$ python -m pdb index_error.py\n",
    "\n",
    "(Pdb) continue\n",
    "(Pdb)\n",
    "\n",
    "```\n"
   ]
  },
  {
   "cell_type": "markdown",
   "metadata": {},
   "source": [
    "##### Step-by-step execution"
   ]
  },
  {
   "cell_type": "markdown",
   "metadata": {},
   "source": [
    "``` shell\n",
    "In [1]: %run -d wiener_filtering.py\n",
    "\n",
    "# next statement in the current execution\n",
    "ipdb> n\n",
    "\n",
    "# step go across execution context\n",
    "ipdb> s\n",
    "\n",
    "# breakpoint\n",
    "ipdb> b 34 \n",
    "# continue to next bp\n",
    "ipdb> c\n",
    "\n",
    "ipdb> print l_var\n",
    "\n",
    "ipdb> print l_var.min()\n",
    "\n",
    "\n",
    "```"
   ]
  },
  {
   "cell_type": "markdown",
   "metadata": {},
   "source": [
    "``` python\n",
    "# Raising exception on numerical errors\n",
    "In [2]: %run wiener_filtering.py\n",
    "In [3]: np.seterr(all='raise')\n",
    "In [4]: %run wiener_filtering.py\n",
    "```"
   ]
  },
  {
   "cell_type": "markdown",
   "metadata": {},
   "source": [
    "##### Other ways of starting a debugger"
   ]
  },
  {
   "cell_type": "markdown",
   "metadata": {},
   "source": [
    "- Raising an exception as a poor man break point\n",
    "If you find it tedious to note the line number to set a break point, you can simply raise an exception at the point that you want to inspect and use IPython’s %debug. Note that in this case you cannot step or continue the execution.\n",
    "- Debugging test failures using nosetests\n",
    "You can run nosetests --pdb to drop in post-mortem debugging on exceptions, and nosetests --pdb-failure to inspect test failures using the debugger.\n",
    "In addition, you can use the IPython interface for the debugger in nose by installing the nose plugin ipdbplugin. You can than pass --ipdb and --ipdb-failure options to nosetests.\n",
    "- Calling the debugger explicitly\n",
    "Insert the following line where you want to drop in the debugger:\n",
    "```\n",
    "import pdb; pdb.set_trace()\n",
    "```"
   ]
  },
  {
   "cell_type": "markdown",
   "metadata": {},
   "source": [
    "#### Debugger commands and interaction"
   ]
  },
  {
   "cell_type": "markdown",
   "metadata": {},
   "source": [
    "commands | ability\n",
    "--- | ---\n",
    "l(list) | Lists the code at the current position\n",
    "u(p) | Walk up the call stack\n",
    "d(own) | Walk down the call stack\n",
    "n(ext) | Execute the next line (does not go down in new functions)\n",
    "s(tep) | Execute the next statement (goes down in new functions)\n",
    "bt | Print the call stack\n",
    "a | Print the local variables\n",
    "!command | Execute the given Python command (by opposition to pdb commands\n",
    "help | get help"
   ]
  },
  {
   "cell_type": "markdown",
   "metadata": {},
   "source": [
    "### Debugging segmentation faults using gdb"
   ]
  },
  {
   "cell_type": "markdown",
   "metadata": {},
   "source": [
    "``` shell\n",
    "$ gdb python\n",
    "\n",
    "(gdb) run segfault.py\n",
    "(gdb) up\n",
    "\n",
    "\n",
    "```"
   ]
  },
  {
   "cell_type": "code",
   "execution_count": null,
   "metadata": {
    "collapsed": true
   },
   "outputs": [],
   "source": []
  }
 ],
 "metadata": {
  "kernelspec": {
   "display_name": "Python 3",
   "language": "python",
   "name": "python3"
  },
  "language_info": {
   "codemirror_mode": {
    "name": "ipython",
    "version": 3
   },
   "file_extension": ".py",
   "mimetype": "text/x-python",
   "name": "python",
   "nbconvert_exporter": "python",
   "pygments_lexer": "ipython3",
   "version": "3.5.1"
  }
 },
 "nbformat": 4,
 "nbformat_minor": 0
}
