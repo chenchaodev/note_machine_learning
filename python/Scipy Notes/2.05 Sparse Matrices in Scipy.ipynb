{
 "cells": [
  {
   "cell_type": "markdown",
   "metadata": {
    "collapsed": true
   },
   "source": [
    "### Introduction\n",
    "(dense) matrix is:\n",
    "- mathematical object\n",
    "- data structure for storing a 2D array of values\n",
    "\n",
    "important features:\n",
    "- memory allocated once for all items\n",
    "    - usually a contiguous chunk, think NumPy ndarray\n",
    "- fase access to individual items"
   ]
  },
  {
   "cell_type": "markdown",
   "metadata": {},
   "source": [
    "#### Why sparse matrices?\n",
    "- memory, grows like $n^2$"
   ]
  },
  {
   "cell_type": "code",
   "execution_count": 3,
   "metadata": {
    "collapsed": true
   },
   "outputs": [],
   "source": [
    "%matplotlib inline\n",
    "import numpy as np\n",
    "import matplotlib.pyplot as plt"
   ]
  },
  {
   "cell_type": "code",
   "execution_count": 5,
   "metadata": {
    "collapsed": false
   },
   "outputs": [
    {
     "data": {
      "text/plain": [
       "<matplotlib.text.Text at 0x237b37d2c88>"
      ]
     },
     "execution_count": 5,
     "metadata": {},
     "output_type": "execute_result"
    },
    {
     "data": {
      "image/png": "[encoded data removed]",
      "text/plain": [
       "<matplotlib.figure.Figure at 0x237b374a2b0>"
      ]
     },
     "metadata": {},
     "output_type": "display_data"
    }
   ],
   "source": [
    "x = np.linspace(0, 1e6, 10)\n",
    "plt.plot(x, 8.0 * (x**2) / 1e6, lw = 5)\n",
    "plt.xlabel('size n')\n",
    "plt.ylabel('memory [MB]')"
   ]
  },
  {
   "cell_type": "markdown",
   "metadata": {},
   "source": [
    "##### Sparse Matrices vs Sparse Matrix Storage Schems\n",
    "- sparse matrix is a matrix, which is almost empty\n",
    "- storing all the zeros is wasteful -> store only nonzero items\n",
    "- think compression\n",
    "- pros: huge memory savings\n",
    "- cons: depends on actual storage scheme, (*) usually does not hold"
   ]
  },
  {
   "cell_type": "markdown",
   "metadata": {},
   "source": [
    "#### Typical Applications\n",
    "- solution of partial differential equations (PDEs)\n",
    "    - the finite element method\n",
    "    - mechanical engineering, electrotechnics, physics, ...\n",
    "- graph theory\n",
    "    - nonzero at (i, j) means that node i is connected to node j\n",
    "- ..."
   ]
  },
  {
   "cell_type": "markdown",
   "metadata": {},
   "source": [
    "#### Prerequisites\n",
    "- numpy\n",
    "- scipy\n",
    "- matplotlib\n",
    "- ipython"
   ]
  },
  {
   "cell_type": "code",
   "execution_count": null,
   "metadata": {
    "collapsed": true
   },
   "outputs": [],
   "source": []
  }
 ],
 "metadata": {
  "kernelspec": {
   "display_name": "Python 3",
   "language": "python",
   "name": "python3"
  },
  "language_info": {
   "codemirror_mode": {
    "name": "ipython",
    "version": 3
   },
   "file_extension": ".py",
   "mimetype": "text/x-python",
   "name": "python",
   "nbconvert_exporter": "python",
   "pygments_lexer": "ipython3",
   "version": "3.5.1"
  }
 },
 "nbformat": 4,
 "nbformat_minor": 0
}
